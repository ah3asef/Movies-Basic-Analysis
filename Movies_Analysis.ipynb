{
 "cells": [
  {
   "cell_type": "code",
   "execution_count": 1,
   "metadata": {},
   "outputs": [],
   "source": [
    "import pandas as pd\n",
    "import seaborn as sns\n",
    "import matplotlib.pyplot as plt\n",
    "import numpy as np"
   ]
  },
  {
   "cell_type": "code",
   "execution_count": 3,
   "metadata": {},
   "outputs": [],
   "source": [
    "data = pd.read_csv(\"C:/Users/Lenovo/Downloads/Compressed/movie_dataset.csv\",sep = ',',encoding='ISO-8859-1')"
   ]
  },
  {
   "cell_type": "code",
   "execution_count": 4,
   "metadata": {},
   "outputs": [
    {
     "data": {
      "text/html": [
       "<div>\n",
       "<style scoped>\n",
       "    .dataframe tbody tr th:only-of-type {\n",
       "        vertical-align: middle;\n",
       "    }\n",
       "\n",
       "    .dataframe tbody tr th {\n",
       "        vertical-align: top;\n",
       "    }\n",
       "\n",
       "    .dataframe thead th {\n",
       "        text-align: right;\n",
       "    }\n",
       "</style>\n",
       "<table border=\"1\" class=\"dataframe\">\n",
       "  <thead>\n",
       "    <tr style=\"text-align: right;\">\n",
       "      <th></th>\n",
       "      <th>budget</th>\n",
       "      <th>genres</th>\n",
       "      <th>id</th>\n",
       "      <th>original_language</th>\n",
       "      <th>popularity</th>\n",
       "      <th>release_date</th>\n",
       "      <th>revenue</th>\n",
       "      <th>runtime</th>\n",
       "      <th>title</th>\n",
       "      <th>vote_average</th>\n",
       "      <th>vote_count</th>\n",
       "      <th>director</th>\n",
       "    </tr>\n",
       "  </thead>\n",
       "  <tbody>\n",
       "    <tr>\n",
       "      <th>0</th>\n",
       "      <td>237000000.0</td>\n",
       "      <td>Action Adventure Fantasy Science-Fiction</td>\n",
       "      <td>19995</td>\n",
       "      <td>en</td>\n",
       "      <td>150.437577</td>\n",
       "      <td>10-12-2009</td>\n",
       "      <td>2.787965e+09</td>\n",
       "      <td>162.0</td>\n",
       "      <td>Avatar</td>\n",
       "      <td>7.2</td>\n",
       "      <td>11800</td>\n",
       "      <td>James Cameron</td>\n",
       "    </tr>\n",
       "    <tr>\n",
       "      <th>1</th>\n",
       "      <td>300000000.0</td>\n",
       "      <td>Adventure Fantasy Action</td>\n",
       "      <td>285</td>\n",
       "      <td>en</td>\n",
       "      <td>139.082615</td>\n",
       "      <td>19-05-2007</td>\n",
       "      <td>9.610000e+08</td>\n",
       "      <td>169.0</td>\n",
       "      <td>Pirates of the Caribbean: At World's End</td>\n",
       "      <td>6.9</td>\n",
       "      <td>4500</td>\n",
       "      <td>Gore Verbinski</td>\n",
       "    </tr>\n",
       "    <tr>\n",
       "      <th>2</th>\n",
       "      <td>245000000.0</td>\n",
       "      <td>Action Adventure Crime</td>\n",
       "      <td>206647</td>\n",
       "      <td>en</td>\n",
       "      <td>107.376788</td>\n",
       "      <td>26-10-2015</td>\n",
       "      <td>8.806746e+08</td>\n",
       "      <td>148.0</td>\n",
       "      <td>Spectre</td>\n",
       "      <td>6.3</td>\n",
       "      <td>4466</td>\n",
       "      <td>Sam Mendes</td>\n",
       "    </tr>\n",
       "    <tr>\n",
       "      <th>3</th>\n",
       "      <td>250000000.0</td>\n",
       "      <td>Action Crime Drama Thriller</td>\n",
       "      <td>49026</td>\n",
       "      <td>en</td>\n",
       "      <td>112.312950</td>\n",
       "      <td>16-07-2012</td>\n",
       "      <td>1.084939e+09</td>\n",
       "      <td>165.0</td>\n",
       "      <td>The Dark Knight Rises</td>\n",
       "      <td>7.6</td>\n",
       "      <td>9106</td>\n",
       "      <td>Christopher Nolan</td>\n",
       "    </tr>\n",
       "    <tr>\n",
       "      <th>4</th>\n",
       "      <td>260000000.0</td>\n",
       "      <td>Action Adventure Science-Fiction</td>\n",
       "      <td>49529</td>\n",
       "      <td>en</td>\n",
       "      <td>43.926995</td>\n",
       "      <td>07-03-2012</td>\n",
       "      <td>2.841391e+08</td>\n",
       "      <td>132.0</td>\n",
       "      <td>John Carter</td>\n",
       "      <td>6.1</td>\n",
       "      <td>2124</td>\n",
       "      <td>Andrew Stanton</td>\n",
       "    </tr>\n",
       "  </tbody>\n",
       "</table>\n",
       "</div>"
      ],
      "text/plain": [
       "        budget                                    genres      id  \\\n",
       "0  237000000.0  Action Adventure Fantasy Science-Fiction   19995   \n",
       "1  300000000.0                  Adventure Fantasy Action     285   \n",
       "2  245000000.0                    Action Adventure Crime  206647   \n",
       "3  250000000.0               Action Crime Drama Thriller   49026   \n",
       "4  260000000.0          Action Adventure Science-Fiction   49529   \n",
       "\n",
       "  original_language  popularity release_date       revenue  runtime  \\\n",
       "0                en  150.437577   10-12-2009  2.787965e+09    162.0   \n",
       "1                en  139.082615   19-05-2007  9.610000e+08    169.0   \n",
       "2                en  107.376788   26-10-2015  8.806746e+08    148.0   \n",
       "3                en  112.312950   16-07-2012  1.084939e+09    165.0   \n",
       "4                en   43.926995   07-03-2012  2.841391e+08    132.0   \n",
       "\n",
       "                                      title  vote_average  vote_count  \\\n",
       "0                                    Avatar           7.2       11800   \n",
       "1  Pirates of the Caribbean: At World's End           6.9        4500   \n",
       "2                                   Spectre           6.3        4466   \n",
       "3                     The Dark Knight Rises           7.6        9106   \n",
       "4                               John Carter           6.1        2124   \n",
       "\n",
       "            director  \n",
       "0      James Cameron  \n",
       "1     Gore Verbinski  \n",
       "2         Sam Mendes  \n",
       "3  Christopher Nolan  \n",
       "4     Andrew Stanton  "
      ]
     },
     "execution_count": 4,
     "metadata": {},
     "output_type": "execute_result"
    }
   ],
   "source": [
    "data.head()"
   ]
  },
  {
   "cell_type": "code",
   "execution_count": 5,
   "metadata": {},
   "outputs": [
    {
     "name": "stdout",
     "output_type": "stream",
     "text": [
      "<class 'pandas.core.frame.DataFrame'>\n",
      "RangeIndex: 4041 entries, 0 to 4040\n",
      "Data columns (total 12 columns):\n",
      " #   Column             Non-Null Count  Dtype  \n",
      "---  ------             --------------  -----  \n",
      " 0   budget             4041 non-null   float64\n",
      " 1   genres             4013 non-null   object \n",
      " 2   id                 4041 non-null   int64  \n",
      " 3   original_language  4041 non-null   object \n",
      " 4   popularity         4041 non-null   float64\n",
      " 5   release_date       4040 non-null   object \n",
      " 6   revenue            4041 non-null   float64\n",
      " 7   runtime            4041 non-null   float64\n",
      " 8   title              4041 non-null   object \n",
      " 9   vote_average       4041 non-null   float64\n",
      " 10  vote_count         4041 non-null   int64  \n",
      " 11  director           4005 non-null   object \n",
      "dtypes: float64(5), int64(2), object(5)\n",
      "memory usage: 379.0+ KB\n"
     ]
    }
   ],
   "source": [
    "data.info()"
   ]
  },
  {
   "cell_type": "code",
   "execution_count": 6,
   "metadata": {},
   "outputs": [
    {
     "data": {
      "text/html": [
       "<div>\n",
       "<style scoped>\n",
       "    .dataframe tbody tr th:only-of-type {\n",
       "        vertical-align: middle;\n",
       "    }\n",
       "\n",
       "    .dataframe tbody tr th {\n",
       "        vertical-align: top;\n",
       "    }\n",
       "\n",
       "    .dataframe thead th {\n",
       "        text-align: right;\n",
       "    }\n",
       "</style>\n",
       "<table border=\"1\" class=\"dataframe\">\n",
       "  <thead>\n",
       "    <tr style=\"text-align: right;\">\n",
       "      <th></th>\n",
       "      <th>budget</th>\n",
       "      <th>id</th>\n",
       "      <th>popularity</th>\n",
       "      <th>revenue</th>\n",
       "      <th>runtime</th>\n",
       "      <th>vote_average</th>\n",
       "      <th>vote_count</th>\n",
       "    </tr>\n",
       "  </thead>\n",
       "  <tbody>\n",
       "    <tr>\n",
       "      <th>count</th>\n",
       "      <td>4041.0</td>\n",
       "      <td>4041.0</td>\n",
       "      <td>4041.0</td>\n",
       "      <td>4.041000e+03</td>\n",
       "      <td>4041.0</td>\n",
       "      <td>4041.0</td>\n",
       "      <td>4041.0</td>\n",
       "    </tr>\n",
       "    <tr>\n",
       "      <th>mean</th>\n",
       "      <td>32853716.0</td>\n",
       "      <td>57983.0</td>\n",
       "      <td>23.0</td>\n",
       "      <td>9.695165e+07</td>\n",
       "      <td>107.0</td>\n",
       "      <td>6.0</td>\n",
       "      <td>785.0</td>\n",
       "    </tr>\n",
       "    <tr>\n",
       "      <th>std</th>\n",
       "      <td>42715863.0</td>\n",
       "      <td>89651.0</td>\n",
       "      <td>34.0</td>\n",
       "      <td>1.734437e+08</td>\n",
       "      <td>23.0</td>\n",
       "      <td>1.0</td>\n",
       "      <td>1321.0</td>\n",
       "    </tr>\n",
       "    <tr>\n",
       "      <th>min</th>\n",
       "      <td>0.0</td>\n",
       "      <td>5.0</td>\n",
       "      <td>0.0</td>\n",
       "      <td>0.000000e+00</td>\n",
       "      <td>0.0</td>\n",
       "      <td>0.0</td>\n",
       "      <td>0.0</td>\n",
       "    </tr>\n",
       "    <tr>\n",
       "      <th>25%</th>\n",
       "      <td>3000000.0</td>\n",
       "      <td>8536.0</td>\n",
       "      <td>4.0</td>\n",
       "      <td>2.154540e+06</td>\n",
       "      <td>94.0</td>\n",
       "      <td>6.0</td>\n",
       "      <td>49.0</td>\n",
       "    </tr>\n",
       "    <tr>\n",
       "      <th>50%</th>\n",
       "      <td>18000000.0</td>\n",
       "      <td>14914.0</td>\n",
       "      <td>15.0</td>\n",
       "      <td>3.264555e+07</td>\n",
       "      <td>104.0</td>\n",
       "      <td>6.0</td>\n",
       "      <td>299.0</td>\n",
       "    </tr>\n",
       "    <tr>\n",
       "      <th>75%</th>\n",
       "      <td>45000000.0</td>\n",
       "      <td>60420.0</td>\n",
       "      <td>32.0</td>\n",
       "      <td>1.133741e+08</td>\n",
       "      <td>119.0</td>\n",
       "      <td>7.0</td>\n",
       "      <td>890.0</td>\n",
       "    </tr>\n",
       "    <tr>\n",
       "      <th>max</th>\n",
       "      <td>380000000.0</td>\n",
       "      <td>459488.0</td>\n",
       "      <td>876.0</td>\n",
       "      <td>2.787965e+09</td>\n",
       "      <td>338.0</td>\n",
       "      <td>10.0</td>\n",
       "      <td>13752.0</td>\n",
       "    </tr>\n",
       "  </tbody>\n",
       "</table>\n",
       "</div>"
      ],
      "text/plain": [
       "            budget        id  popularity       revenue  runtime  vote_average  \\\n",
       "count       4041.0    4041.0      4041.0  4.041000e+03   4041.0        4041.0   \n",
       "mean    32853716.0   57983.0        23.0  9.695165e+07    107.0           6.0   \n",
       "std     42715863.0   89651.0        34.0  1.734437e+08     23.0           1.0   \n",
       "min            0.0       5.0         0.0  0.000000e+00      0.0           0.0   \n",
       "25%      3000000.0    8536.0         4.0  2.154540e+06     94.0           6.0   \n",
       "50%     18000000.0   14914.0        15.0  3.264555e+07    104.0           6.0   \n",
       "75%     45000000.0   60420.0        32.0  1.133741e+08    119.0           7.0   \n",
       "max    380000000.0  459488.0       876.0  2.787965e+09    338.0          10.0   \n",
       "\n",
       "       vote_count  \n",
       "count      4041.0  \n",
       "mean        785.0  \n",
       "std        1321.0  \n",
       "min           0.0  \n",
       "25%          49.0  \n",
       "50%         299.0  \n",
       "75%         890.0  \n",
       "max       13752.0  "
      ]
     },
     "execution_count": 6,
     "metadata": {},
     "output_type": "execute_result"
    }
   ],
   "source": [
    "data.describe().round()"
   ]
  },
  {
   "cell_type": "code",
   "execution_count": 7,
   "metadata": {},
   "outputs": [
    {
     "data": {
      "image/png": "[encoded data removed]",
      "text/plain": [
       "<Figure size 800x600 with 2 Axes>"
      ]
     },
     "metadata": {},
     "output_type": "display_data"
    }
   ],
   "source": [
    "plt.figure(figsize=(8,6))\n",
    "sns.heatmap(data.isnull())\n",
    "plt.show()"
   ]
  },
  {
   "cell_type": "code",
   "execution_count": 8,
   "metadata": {},
   "outputs": [
    {
     "data": {
      "text/plain": [
       "2"
      ]
     },
     "execution_count": 8,
     "metadata": {},
     "output_type": "execute_result"
    }
   ],
   "source": [
    "data.duplicated(subset=[\"title\"]).sum()"
   ]
  },
  {
   "cell_type": "code",
   "execution_count": 9,
   "metadata": {},
   "outputs": [
    {
     "data": {
      "text/plain": [
       "budget               0\n",
       "genres               0\n",
       "id                   0\n",
       "original_language    0\n",
       "popularity           0\n",
       "release_date         0\n",
       "revenue              0\n",
       "runtime              0\n",
       "title                0\n",
       "vote_average         0\n",
       "vote_count           0\n",
       "director             0\n",
       "dtype: int64"
      ]
     },
     "execution_count": 9,
     "metadata": {},
     "output_type": "execute_result"
    }
   ],
   "source": [
    "data = data.dropna(subset=[\"genres\",\"director\"])\n",
    "data.isna().sum()"
   ]
  },
  {
   "cell_type": "code",
   "execution_count": 10,
   "metadata": {},
   "outputs": [
    {
     "data": {
      "text/html": [
       "<div>\n",
       "<style scoped>\n",
       "    .dataframe tbody tr th:only-of-type {\n",
       "        vertical-align: middle;\n",
       "    }\n",
       "\n",
       "    .dataframe tbody tr th {\n",
       "        vertical-align: top;\n",
       "    }\n",
       "\n",
       "    .dataframe thead th {\n",
       "        text-align: right;\n",
       "    }\n",
       "</style>\n",
       "<table border=\"1\" class=\"dataframe\">\n",
       "  <thead>\n",
       "    <tr style=\"text-align: right;\">\n",
       "      <th></th>\n",
       "      <th>budget</th>\n",
       "      <th>genres</th>\n",
       "      <th>id</th>\n",
       "      <th>original_language</th>\n",
       "      <th>popularity</th>\n",
       "      <th>release_date</th>\n",
       "      <th>revenue</th>\n",
       "      <th>runtime</th>\n",
       "      <th>title</th>\n",
       "      <th>vote_average</th>\n",
       "      <th>vote_count</th>\n",
       "      <th>director</th>\n",
       "    </tr>\n",
       "  </thead>\n",
       "  <tbody>\n",
       "    <tr>\n",
       "      <th>0</th>\n",
       "      <td>237000000.0</td>\n",
       "      <td>Action Adventure Fantasy Science-Fiction</td>\n",
       "      <td>19995</td>\n",
       "      <td>en</td>\n",
       "      <td>150.437577</td>\n",
       "      <td>10-12-2009</td>\n",
       "      <td>2.787965e+09</td>\n",
       "      <td>162.0</td>\n",
       "      <td>Avatar</td>\n",
       "      <td>7.2</td>\n",
       "      <td>11800</td>\n",
       "      <td>James Cameron</td>\n",
       "    </tr>\n",
       "    <tr>\n",
       "      <th>1</th>\n",
       "      <td>300000000.0</td>\n",
       "      <td>Adventure Fantasy Action</td>\n",
       "      <td>285</td>\n",
       "      <td>en</td>\n",
       "      <td>139.082615</td>\n",
       "      <td>19-05-2007</td>\n",
       "      <td>9.610000e+08</td>\n",
       "      <td>169.0</td>\n",
       "      <td>Pirates of the Caribbean: At World's End</td>\n",
       "      <td>6.9</td>\n",
       "      <td>4500</td>\n",
       "      <td>Gore Verbinski</td>\n",
       "    </tr>\n",
       "    <tr>\n",
       "      <th>2</th>\n",
       "      <td>245000000.0</td>\n",
       "      <td>Action Adventure Crime</td>\n",
       "      <td>206647</td>\n",
       "      <td>en</td>\n",
       "      <td>107.376788</td>\n",
       "      <td>26-10-2015</td>\n",
       "      <td>8.806746e+08</td>\n",
       "      <td>148.0</td>\n",
       "      <td>Spectre</td>\n",
       "      <td>6.3</td>\n",
       "      <td>4466</td>\n",
       "      <td>Sam Mendes</td>\n",
       "    </tr>\n",
       "    <tr>\n",
       "      <th>3</th>\n",
       "      <td>250000000.0</td>\n",
       "      <td>Action Crime Drama Thriller</td>\n",
       "      <td>49026</td>\n",
       "      <td>en</td>\n",
       "      <td>112.312950</td>\n",
       "      <td>16-07-2012</td>\n",
       "      <td>1.084939e+09</td>\n",
       "      <td>165.0</td>\n",
       "      <td>The Dark Knight Rises</td>\n",
       "      <td>7.6</td>\n",
       "      <td>9106</td>\n",
       "      <td>Christopher Nolan</td>\n",
       "    </tr>\n",
       "    <tr>\n",
       "      <th>4</th>\n",
       "      <td>260000000.0</td>\n",
       "      <td>Action Adventure Science-Fiction</td>\n",
       "      <td>49529</td>\n",
       "      <td>en</td>\n",
       "      <td>43.926995</td>\n",
       "      <td>07-03-2012</td>\n",
       "      <td>2.841391e+08</td>\n",
       "      <td>132.0</td>\n",
       "      <td>John Carter</td>\n",
       "      <td>6.1</td>\n",
       "      <td>2124</td>\n",
       "      <td>Andrew Stanton</td>\n",
       "    </tr>\n",
       "  </tbody>\n",
       "</table>\n",
       "</div>"
      ],
      "text/plain": [
       "        budget                                    genres      id  \\\n",
       "0  237000000.0  Action Adventure Fantasy Science-Fiction   19995   \n",
       "1  300000000.0                  Adventure Fantasy Action     285   \n",
       "2  245000000.0                    Action Adventure Crime  206647   \n",
       "3  250000000.0               Action Crime Drama Thriller   49026   \n",
       "4  260000000.0          Action Adventure Science-Fiction   49529   \n",
       "\n",
       "  original_language  popularity release_date       revenue  runtime  \\\n",
       "0                en  150.437577   10-12-2009  2.787965e+09    162.0   \n",
       "1                en  139.082615   19-05-2007  9.610000e+08    169.0   \n",
       "2                en  107.376788   26-10-2015  8.806746e+08    148.0   \n",
       "3                en  112.312950   16-07-2012  1.084939e+09    165.0   \n",
       "4                en   43.926995   07-03-2012  2.841391e+08    132.0   \n",
       "\n",
       "                                      title  vote_average  vote_count  \\\n",
       "0                                    Avatar           7.2       11800   \n",
       "1  Pirates of the Caribbean: At World's End           6.9        4500   \n",
       "2                                   Spectre           6.3        4466   \n",
       "3                     The Dark Knight Rises           7.6        9106   \n",
       "4                               John Carter           6.1        2124   \n",
       "\n",
       "            director  \n",
       "0      James Cameron  \n",
       "1     Gore Verbinski  \n",
       "2         Sam Mendes  \n",
       "3  Christopher Nolan  \n",
       "4     Andrew Stanton  "
      ]
     },
     "execution_count": 10,
     "metadata": {},
     "output_type": "execute_result"
    }
   ],
   "source": [
    "data.head()"
   ]
  },
  {
   "cell_type": "code",
   "execution_count": 11,
   "metadata": {},
   "outputs": [
    {
     "data": {
      "text/plain": [
       "budget               563\n",
       "genres               563\n",
       "id                   563\n",
       "original_language    563\n",
       "popularity           563\n",
       "release_date         563\n",
       "revenue              563\n",
       "runtime              563\n",
       "title                563\n",
       "vote_average         563\n",
       "vote_count           563\n",
       "director             563\n",
       "dtype: int64"
      ]
     },
     "execution_count": 11,
     "metadata": {},
     "output_type": "execute_result"
    }
   ],
   "source": [
    "data[data[\"budget\"]==0].count()"
   ]
  },
  {
   "cell_type": "code",
   "execution_count": 12,
   "metadata": {},
   "outputs": [],
   "source": [
    "data = data[data[\"revenue\"]>0]"
   ]
  },
  {
   "cell_type": "code",
   "execution_count": 13,
   "metadata": {},
   "outputs": [],
   "source": [
    "data = data[data[\"budget\"]>0]\n"
   ]
  },
  {
   "cell_type": "code",
   "execution_count": 14,
   "metadata": {},
   "outputs": [
    {
     "data": {
      "text/html": [
       "<div>\n",
       "<style scoped>\n",
       "    .dataframe tbody tr th:only-of-type {\n",
       "        vertical-align: middle;\n",
       "    }\n",
       "\n",
       "    .dataframe tbody tr th {\n",
       "        vertical-align: top;\n",
       "    }\n",
       "\n",
       "    .dataframe thead th {\n",
       "        text-align: right;\n",
       "    }\n",
       "</style>\n",
       "<table border=\"1\" class=\"dataframe\">\n",
       "  <thead>\n",
       "    <tr style=\"text-align: right;\">\n",
       "      <th></th>\n",
       "      <th>budget</th>\n",
       "      <th>genres</th>\n",
       "      <th>id</th>\n",
       "      <th>original_language</th>\n",
       "      <th>popularity</th>\n",
       "      <th>release_date</th>\n",
       "      <th>revenue</th>\n",
       "      <th>runtime</th>\n",
       "      <th>title</th>\n",
       "      <th>vote_average</th>\n",
       "      <th>vote_count</th>\n",
       "      <th>director</th>\n",
       "    </tr>\n",
       "  </thead>\n",
       "  <tbody>\n",
       "  </tbody>\n",
       "</table>\n",
       "</div>"
      ],
      "text/plain": [
       "Empty DataFrame\n",
       "Columns: [budget, genres, id, original_language, popularity, release_date, revenue, runtime, title, vote_average, vote_count, director]\n",
       "Index: []"
      ]
     },
     "execution_count": 14,
     "metadata": {},
     "output_type": "execute_result"
    }
   ],
   "source": [
    "data[data[\"budget\"]==0]"
   ]
  },
  {
   "cell_type": "code",
   "execution_count": 15,
   "metadata": {},
   "outputs": [
    {
     "data": {
      "text/plain": [
       "(3221, 12)"
      ]
     },
     "execution_count": 15,
     "metadata": {},
     "output_type": "execute_result"
    }
   ],
   "source": [
    "data.shape"
   ]
  },
  {
   "cell_type": "code",
   "execution_count": 16,
   "metadata": {},
   "outputs": [],
   "source": [
    "data =data[data[\"vote_average\"]>0]\n"
   ]
  },
  {
   "cell_type": "markdown",
   "metadata": {},
   "source": [
    "first of all we can't remove outliers in this data set cause some of movies have the highest budget and revenue like this box plot"
   ]
  },
  {
   "cell_type": "code",
   "execution_count": 17,
   "metadata": {},
   "outputs": [
    {
     "data": {
      "image/png": "[encoded data removed]",
      "text/plain": [
       "<Figure size 640x480 with 1 Axes>"
      ]
     },
     "metadata": {},
     "output_type": "display_data"
    }
   ],
   "source": [
    "ax = data[['budget','revenue']].plot(kind='box', title='boxplot')\n",
    "plt.show()\n"
   ]
  },
  {
   "cell_type": "markdown",
   "metadata": {},
   "source": [
    "we want to plot the most directors achieve revenue"
   ]
  },
  {
   "cell_type": "code",
   "execution_count": 18,
   "metadata": {},
   "outputs": [
    {
     "data": {
      "text/html": [
       "<div>\n",
       "<style scoped>\n",
       "    .dataframe tbody tr th:only-of-type {\n",
       "        vertical-align: middle;\n",
       "    }\n",
       "\n",
       "    .dataframe tbody tr th {\n",
       "        vertical-align: top;\n",
       "    }\n",
       "\n",
       "    .dataframe thead th {\n",
       "        text-align: right;\n",
       "    }\n",
       "</style>\n",
       "<table border=\"1\" class=\"dataframe\">\n",
       "  <thead>\n",
       "    <tr style=\"text-align: right;\">\n",
       "      <th></th>\n",
       "      <th>director</th>\n",
       "      <th>revenue</th>\n",
       "    </tr>\n",
       "  </thead>\n",
       "  <tbody>\n",
       "    <tr>\n",
       "      <th>1291</th>\n",
       "      <td>Steven Spielberg</td>\n",
       "      <td>9.147393e+09</td>\n",
       "    </tr>\n",
       "    <tr>\n",
       "      <th>1041</th>\n",
       "      <td>Peter Jackson</td>\n",
       "      <td>6.498643e+09</td>\n",
       "    </tr>\n",
       "    <tr>\n",
       "      <th>541</th>\n",
       "      <td>James Cameron</td>\n",
       "      <td>5.883569e+09</td>\n",
       "    </tr>\n",
       "    <tr>\n",
       "      <th>888</th>\n",
       "      <td>Michael Bay</td>\n",
       "      <td>5.832525e+09</td>\n",
       "    </tr>\n",
       "    <tr>\n",
       "      <th>214</th>\n",
       "      <td>Christopher Nolan</td>\n",
       "      <td>4.227483e+09</td>\n",
       "    </tr>\n",
       "    <tr>\n",
       "      <th>185</th>\n",
       "      <td>Chris Columbus</td>\n",
       "      <td>3.725632e+09</td>\n",
       "    </tr>\n",
       "    <tr>\n",
       "      <th>1150</th>\n",
       "      <td>Robert Zemeckis</td>\n",
       "      <td>3.590622e+09</td>\n",
       "    </tr>\n",
       "    <tr>\n",
       "      <th>451</th>\n",
       "      <td>George Lucas</td>\n",
       "      <td>3.339114e+09</td>\n",
       "    </tr>\n",
       "    <tr>\n",
       "      <th>1335</th>\n",
       "      <td>Tim Burton</td>\n",
       "      <td>3.337418e+09</td>\n",
       "    </tr>\n",
       "    <tr>\n",
       "      <th>1116</th>\n",
       "      <td>Ridley Scott</td>\n",
       "      <td>3.189558e+09</td>\n",
       "    </tr>\n",
       "  </tbody>\n",
       "</table>\n",
       "</div>"
      ],
      "text/plain": [
       "               director       revenue\n",
       "1291   Steven Spielberg  9.147393e+09\n",
       "1041      Peter Jackson  6.498643e+09\n",
       "541       James Cameron  5.883569e+09\n",
       "888         Michael Bay  5.832525e+09\n",
       "214   Christopher Nolan  4.227483e+09\n",
       "185      Chris Columbus  3.725632e+09\n",
       "1150    Robert Zemeckis  3.590622e+09\n",
       "451        George Lucas  3.339114e+09\n",
       "1335         Tim Burton  3.337418e+09\n",
       "1116       Ridley Scott  3.189558e+09"
      ]
     },
     "execution_count": 18,
     "metadata": {},
     "output_type": "execute_result"
    }
   ],
   "source": [
    "director = data.groupby('director')['revenue'].sum().to_frame().reset_index()\n",
    "director = director.sort_values(['revenue'],ascending= False).drop_duplicates().head(10)\n",
    "director"
   ]
  },
  {
   "cell_type": "code",
   "execution_count": 19,
   "metadata": {},
   "outputs": [
    {
     "data": {
      "image/png": "[encoded data removed]",
      "text/plain": [
       "<Figure size 640x480 with 1 Axes>"
      ]
     },
     "metadata": {},
     "output_type": "display_data"
    }
   ],
   "source": [
    "plt.barh(director['director'], director['revenue'])\n",
    "plt.title('Most Directors Achieving Revenues')\n",
    "plt.xlabel('Revenues')\n",
    "plt.ylabel('Directors')\n",
    "plt.show()"
   ]
  },
  {
   "cell_type": "markdown",
   "metadata": {},
   "source": [
    "Plotting Number of Movies Released by year"
   ]
  },
  {
   "cell_type": "code",
   "execution_count": 20,
   "metadata": {},
   "outputs": [
    {
     "data": {
      "text/plain": [
       "0   2009-12-10\n",
       "1   2007-05-19\n",
       "2   2015-10-26\n",
       "3   2012-07-16\n",
       "4   2012-03-07\n",
       "Name: release_date, dtype: datetime64[ns]"
      ]
     },
     "execution_count": 20,
     "metadata": {},
     "output_type": "execute_result"
    }
   ],
   "source": [
    "data['release_date'] = pd.to_datetime(data['release_date'],format = \"%d-%m-%Y\")\n",
    "data['release_date'].head()"
   ]
  },
  {
   "cell_type": "code",
   "execution_count": 21,
   "metadata": {},
   "outputs": [
    {
     "data": {
      "text/plain": [
       "release_date\n",
       "1916      1\n",
       "1925      1\n",
       "1927      1\n",
       "1929      1\n",
       "1930      1\n",
       "       ... \n",
       "2012    137\n",
       "2013    151\n",
       "2014    135\n",
       "2015    119\n",
       "2016     72\n",
       "Name: id, Length: 89, dtype: int64"
      ]
     },
     "execution_count": 21,
     "metadata": {},
     "output_type": "execute_result"
    }
   ],
   "source": [
    "released_year = data.groupby(data['release_date'].dt.year).count()['id']\n",
    "released_year"
   ]
  },
  {
   "cell_type": "code",
   "execution_count": 22,
   "metadata": {},
   "outputs": [
    {
     "data": {
      "text/plain": [
       "Text(0, 0.5, 'Number of Movies')"
      ]
     },
     "execution_count": 22,
     "metadata": {},
     "output_type": "execute_result"
    },
    {
     "data": {
      "image/png": "[encoded data removed]",
      "text/plain": [
       "<Figure size 1000x500 with 1 Axes>"
      ]
     },
     "metadata": {},
     "output_type": "display_data"
    }
   ],
   "source": [
    "sns.set_style('darkgrid')\n",
    "x = released_year.index\n",
    "y = released_year\n",
    "plt.figure(figsize=(10,5))\n",
    "plt.plot(x, y, color='red')\n",
    "plt.title('Number of Movies Released by year', fontsize = 15)\n",
    "plt.xlabel('Year', fontsize=14)\n",
    "plt.ylabel('Number of Movies', fontsize=14)"
   ]
  },
  {
   "cell_type": "markdown",
   "metadata": {},
   "source": [
    "plotting Most popularity movies"
   ]
  },
  {
   "cell_type": "code",
   "execution_count": 23,
   "metadata": {},
   "outputs": [
    {
     "data": {
      "text/html": [
       "<div>\n",
       "<style scoped>\n",
       "    .dataframe tbody tr th:only-of-type {\n",
       "        vertical-align: middle;\n",
       "    }\n",
       "\n",
       "    .dataframe tbody tr th {\n",
       "        vertical-align: top;\n",
       "    }\n",
       "\n",
       "    .dataframe thead th {\n",
       "        text-align: right;\n",
       "    }\n",
       "</style>\n",
       "<table border=\"1\" class=\"dataframe\">\n",
       "  <thead>\n",
       "    <tr style=\"text-align: right;\">\n",
       "      <th></th>\n",
       "      <th>title</th>\n",
       "      <th>popularity</th>\n",
       "    </tr>\n",
       "  </thead>\n",
       "  <tbody>\n",
       "    <tr>\n",
       "      <th>529</th>\n",
       "      <td>Minions</td>\n",
       "      <td>875.581305</td>\n",
       "    </tr>\n",
       "    <tr>\n",
       "      <th>95</th>\n",
       "      <td>Interstellar</td>\n",
       "      <td>724.247784</td>\n",
       "    </tr>\n",
       "    <tr>\n",
       "      <th>752</th>\n",
       "      <td>Deadpool</td>\n",
       "      <td>514.569956</td>\n",
       "    </tr>\n",
       "    <tr>\n",
       "      <th>94</th>\n",
       "      <td>Guardians of the Galaxy</td>\n",
       "      <td>481.098624</td>\n",
       "    </tr>\n",
       "    <tr>\n",
       "      <th>127</th>\n",
       "      <td>Mad Max: Fury Road</td>\n",
       "      <td>434.278564</td>\n",
       "    </tr>\n",
       "  </tbody>\n",
       "</table>\n",
       "</div>"
      ],
      "text/plain": [
       "                       title  popularity\n",
       "529                  Minions  875.581305\n",
       "95              Interstellar  724.247784\n",
       "752                 Deadpool  514.569956\n",
       "94   Guardians of the Galaxy  481.098624\n",
       "127       Mad Max: Fury Road  434.278564"
      ]
     },
     "execution_count": 23,
     "metadata": {},
     "output_type": "execute_result"
    }
   ],
   "source": [
    "popularity = data[['title','popularity']].sort_values(['popularity'],ascending= False).drop_duplicates().head(5)\n",
    "popularity"
   ]
  },
  {
   "cell_type": "code",
   "execution_count": 24,
   "metadata": {},
   "outputs": [
    {
     "data": {
      "image/png": "[encoded data removed]",
      "text/plain": [
       "<Figure size 640x480 with 1 Axes>"
      ]
     },
     "metadata": {},
     "output_type": "display_data"
    }
   ],
   "source": [
    "plt.pie(popularity['popularity'], labels=popularity['title'],)\n",
    "plt.title('Most Popular Movies')\n",
    "plt.show()"
   ]
  },
  {
   "cell_type": "markdown",
   "metadata": {},
   "source": [
    "So we want to plot the runtime of movies using Histogram"
   ]
  },
  {
   "cell_type": "code",
   "execution_count": 25,
   "metadata": {},
   "outputs": [
    {
     "data": {
      "image/png": "[encoded data removed]",
      "text/plain": [
       "<Figure size 1000x500 with 1 Axes>"
      ]
     },
     "metadata": {},
     "output_type": "display_data"
    }
   ],
   "source": [
    "plt.figure(figsize=(10,5), dpi = 100)\n",
    "plt.xlabel('Movie Runtime (min)', fontsize = 13) \n",
    "plt.ylabel('Number of Moviest', fontsize=13)\n",
    "plt.title('Runtime of all the movies', fontsize=14)\n",
    "plt.hist(data['runtime'], rwidth = 0.9, bins =45)\n",
    "plt.show()"
   ]
  },
  {
   "cell_type": "code",
   "execution_count": 26,
   "metadata": {},
   "outputs": [
    {
     "data": {
      "text/html": [
       "<div>\n",
       "<style scoped>\n",
       "    .dataframe tbody tr th:only-of-type {\n",
       "        vertical-align: middle;\n",
       "    }\n",
       "\n",
       "    .dataframe tbody tr th {\n",
       "        vertical-align: top;\n",
       "    }\n",
       "\n",
       "    .dataframe thead th {\n",
       "        text-align: right;\n",
       "    }\n",
       "</style>\n",
       "<table border=\"1\" class=\"dataframe\">\n",
       "  <thead>\n",
       "    <tr style=\"text-align: right;\">\n",
       "      <th></th>\n",
       "      <th>budget</th>\n",
       "      <th>genres</th>\n",
       "      <th>id</th>\n",
       "      <th>original_language</th>\n",
       "      <th>popularity</th>\n",
       "      <th>release_date</th>\n",
       "      <th>revenue</th>\n",
       "      <th>runtime</th>\n",
       "      <th>title</th>\n",
       "      <th>vote_average</th>\n",
       "      <th>vote_count</th>\n",
       "      <th>director</th>\n",
       "    </tr>\n",
       "  </thead>\n",
       "  <tbody>\n",
       "    <tr>\n",
       "      <th>325</th>\n",
       "      <td>94000000.0</td>\n",
       "      <td>Adventure Fantasy Action</td>\n",
       "      <td>122</td>\n",
       "      <td>en</td>\n",
       "      <td>123.630332</td>\n",
       "      <td>2003-12-01</td>\n",
       "      <td>1.118889e+09</td>\n",
       "      <td>201.0</td>\n",
       "      <td>The Lord of the Rings: The Return of the King</td>\n",
       "      <td>8.1</td>\n",
       "      <td>8064</td>\n",
       "      <td>Peter Jackson</td>\n",
       "    </tr>\n",
       "    <tr>\n",
       "      <th>813</th>\n",
       "      <td>56000000.0</td>\n",
       "      <td>Drama History War</td>\n",
       "      <td>16072</td>\n",
       "      <td>en</td>\n",
       "      <td>4.362535</td>\n",
       "      <td>2003-02-21</td>\n",
       "      <td>1.292394e+07</td>\n",
       "      <td>214.0</td>\n",
       "      <td>Gods and Generals</td>\n",
       "      <td>6.1</td>\n",
       "      <td>48</td>\n",
       "      <td>Ronald F. Maxwell</td>\n",
       "    </tr>\n",
       "    <tr>\n",
       "      <th>1043</th>\n",
       "      <td>44000000.0</td>\n",
       "      <td>Action Drama History Western</td>\n",
       "      <td>10935</td>\n",
       "      <td>en</td>\n",
       "      <td>5.380124</td>\n",
       "      <td>1980-11-19</td>\n",
       "      <td>3.484331e+06</td>\n",
       "      <td>219.0</td>\n",
       "      <td>Heaven's Gate</td>\n",
       "      <td>6.4</td>\n",
       "      <td>55</td>\n",
       "      <td>Michael Cimino</td>\n",
       "    </tr>\n",
       "    <tr>\n",
       "      <th>1058</th>\n",
       "      <td>31115000.0</td>\n",
       "      <td>Drama History Romance</td>\n",
       "      <td>8095</td>\n",
       "      <td>en</td>\n",
       "      <td>13.244365</td>\n",
       "      <td>1963-06-12</td>\n",
       "      <td>7.100000e+07</td>\n",
       "      <td>248.0</td>\n",
       "      <td>Cleopatra</td>\n",
       "      <td>6.7</td>\n",
       "      <td>146</td>\n",
       "      <td>Joseph L. Mankiewicz</td>\n",
       "    </tr>\n",
       "    <tr>\n",
       "      <th>1284</th>\n",
       "      <td>34000000.0</td>\n",
       "      <td>Drama History</td>\n",
       "      <td>1883</td>\n",
       "      <td>en</td>\n",
       "      <td>19.822791</td>\n",
       "      <td>1992-11-18</td>\n",
       "      <td>4.816991e+07</td>\n",
       "      <td>202.0</td>\n",
       "      <td>Malcolm X</td>\n",
       "      <td>7.2</td>\n",
       "      <td>370</td>\n",
       "      <td>Spike Lee</td>\n",
       "    </tr>\n",
       "    <tr>\n",
       "      <th>2110</th>\n",
       "      <td>18000000.0</td>\n",
       "      <td>Crime Drama Thriller History</td>\n",
       "      <td>43434</td>\n",
       "      <td>en</td>\n",
       "      <td>1.138383</td>\n",
       "      <td>2010-05-19</td>\n",
       "      <td>8.712790e+05</td>\n",
       "      <td>338.0</td>\n",
       "      <td>Carlos</td>\n",
       "      <td>6.7</td>\n",
       "      <td>50</td>\n",
       "      <td>Olivier Assayas</td>\n",
       "    </tr>\n",
       "    <tr>\n",
       "      <th>2245</th>\n",
       "      <td>15000000.0</td>\n",
       "      <td>Adventure Drama History War</td>\n",
       "      <td>947</td>\n",
       "      <td>en</td>\n",
       "      <td>41.286336</td>\n",
       "      <td>1962-12-10</td>\n",
       "      <td>6.999538e+07</td>\n",
       "      <td>216.0</td>\n",
       "      <td>Lawrence of Arabia</td>\n",
       "      <td>7.8</td>\n",
       "      <td>851</td>\n",
       "      <td>David Lean</td>\n",
       "    </tr>\n",
       "    <tr>\n",
       "      <th>3211</th>\n",
       "      <td>4000000.0</td>\n",
       "      <td>Drama Romance War</td>\n",
       "      <td>770</td>\n",
       "      <td>en</td>\n",
       "      <td>48.982550</td>\n",
       "      <td>1939-12-15</td>\n",
       "      <td>4.001765e+08</td>\n",
       "      <td>238.0</td>\n",
       "      <td>Gone with the Wind</td>\n",
       "      <td>7.7</td>\n",
       "      <td>970</td>\n",
       "      <td>Victor Fleming</td>\n",
       "    </tr>\n",
       "    <tr>\n",
       "      <th>3768</th>\n",
       "      <td>600000.0</td>\n",
       "      <td>History Documentary Music</td>\n",
       "      <td>9459</td>\n",
       "      <td>en</td>\n",
       "      <td>3.409764</td>\n",
       "      <td>1970-03-26</td>\n",
       "      <td>3.450511e+07</td>\n",
       "      <td>225.0</td>\n",
       "      <td>Woodstock</td>\n",
       "      <td>7.1</td>\n",
       "      <td>66</td>\n",
       "      <td>Michael Wadleigh</td>\n",
       "    </tr>\n",
       "    <tr>\n",
       "      <th>3804</th>\n",
       "      <td>2000000.0</td>\n",
       "      <td>Action Drama</td>\n",
       "      <td>346</td>\n",
       "      <td>ja</td>\n",
       "      <td>39.756748</td>\n",
       "      <td>1954-04-26</td>\n",
       "      <td>2.718410e+05</td>\n",
       "      <td>207.0</td>\n",
       "      <td>Seven Samurai</td>\n",
       "      <td>8.2</td>\n",
       "      <td>878</td>\n",
       "      <td>Akira Kurosawa</td>\n",
       "    </tr>\n",
       "  </tbody>\n",
       "</table>\n",
       "</div>"
      ],
      "text/plain": [
       "          budget                        genres     id original_language  \\\n",
       "325   94000000.0      Adventure Fantasy Action    122                en   \n",
       "813   56000000.0             Drama History War  16072                en   \n",
       "1043  44000000.0  Action Drama History Western  10935                en   \n",
       "1058  31115000.0         Drama History Romance   8095                en   \n",
       "1284  34000000.0                 Drama History   1883                en   \n",
       "2110  18000000.0  Crime Drama Thriller History  43434                en   \n",
       "2245  15000000.0   Adventure Drama History War    947                en   \n",
       "3211   4000000.0             Drama Romance War    770                en   \n",
       "3768    600000.0     History Documentary Music   9459                en   \n",
       "3804   2000000.0                  Action Drama    346                ja   \n",
       "\n",
       "      popularity release_date       revenue  runtime  \\\n",
       "325   123.630332   2003-12-01  1.118889e+09    201.0   \n",
       "813     4.362535   2003-02-21  1.292394e+07    214.0   \n",
       "1043    5.380124   1980-11-19  3.484331e+06    219.0   \n",
       "1058   13.244365   1963-06-12  7.100000e+07    248.0   \n",
       "1284   19.822791   1992-11-18  4.816991e+07    202.0   \n",
       "2110    1.138383   2010-05-19  8.712790e+05    338.0   \n",
       "2245   41.286336   1962-12-10  6.999538e+07    216.0   \n",
       "3211   48.982550   1939-12-15  4.001765e+08    238.0   \n",
       "3768    3.409764   1970-03-26  3.450511e+07    225.0   \n",
       "3804   39.756748   1954-04-26  2.718410e+05    207.0   \n",
       "\n",
       "                                              title  vote_average  vote_count  \\\n",
       "325   The Lord of the Rings: The Return of the King           8.1        8064   \n",
       "813                               Gods and Generals           6.1          48   \n",
       "1043                                  Heaven's Gate           6.4          55   \n",
       "1058                                      Cleopatra           6.7         146   \n",
       "1284                                      Malcolm X           7.2         370   \n",
       "2110                                         Carlos           6.7          50   \n",
       "2245                             Lawrence of Arabia           7.8         851   \n",
       "3211                             Gone with the Wind           7.7         970   \n",
       "3768                                      Woodstock           7.1          66   \n",
       "3804                                  Seven Samurai           8.2         878   \n",
       "\n",
       "                  director  \n",
       "325          Peter Jackson  \n",
       "813      Ronald F. Maxwell  \n",
       "1043        Michael Cimino  \n",
       "1058  Joseph L. Mankiewicz  \n",
       "1284             Spike Lee  \n",
       "2110       Olivier Assayas  \n",
       "2245            David Lean  \n",
       "3211        Victor Fleming  \n",
       "3768      Michael Wadleigh  \n",
       "3804        Akira Kurosawa  "
      ]
     },
     "execution_count": 26,
     "metadata": {},
     "output_type": "execute_result"
    }
   ],
   "source": [
    "data[data['runtime']>200]"
   ]
  }
 ],
 "metadata": {
  "kernelspec": {
   "display_name": "Python 3",
   "language": "python",
   "name": "python3"
  },
  "language_info": {
   "codemirror_mode": {
    "name": "ipython",
    "version": 3
   },
   "file_extension": ".py",
   "mimetype": "text/x-python",
   "name": "python",
   "nbconvert_exporter": "python",
   "pygments_lexer": "ipython3",
   "version": "3.12.3"
  }
 },
 "nbformat": 4,
 "nbformat_minor": 2
}
